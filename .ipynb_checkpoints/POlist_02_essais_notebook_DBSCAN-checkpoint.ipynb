{
 "cells": [
  {
   "cell_type": "markdown",
   "metadata": {},
   "source": [
    "# PROJET 4 : Segmentation des clients d'un site e-commerce\n"
   ]
  },
  {
   "cell_type": "markdown",
   "metadata": {},
   "source": [
    "## SOMMAIRE  <a class=\"anchor\" id=\"sommaire\"></a>\n",
    "## [IMPORT DES LIBRAIRIES](#3)<a class=\"anchor\" id=\"sommaire\"></a>\n",
    "## [CHARGEMENT DES DONNEES](#4)<a class=\"anchor\" id=\"sommaire\"></a>\n",
    "## [MISSION 1: DIFFERENTS TYPES DE SEGMENTATION ](#5)<a class=\"anchor\" id=\"sommaire\"></a>\n",
    "### [M1-1 : RFM](#6)<a class=\"anchor\" id=\"sommaire\"></a>\n",
    "### [M1-2 : K-MEANS](#7)<a class=\"anchor\" id=\"sommaire\"></a>\n",
    "### [M1-3 : DB-SCAN](#8)<a class=\"anchor\" id=\"sommaire\"></a>\n"
   ]
  },
  {
   "cell_type": "markdown",
   "metadata": {},
   "source": [
    "--------------------------------------------------------"
   ]
  },
  {
   "cell_type": "markdown",
   "metadata": {},
   "source": [
    "## [IMPORT DES LIBRAIRIES](#sommaire)<a class=\"anchor\" id=\"3\"></a>"
   ]
  },
  {
   "cell_type": "code",
   "execution_count": 1,
   "metadata": {},
   "outputs": [],
   "source": [
    "import numpy as np\n",
    "import pandas as pd\n",
    "import seaborn as sns\n",
    "from utils.functions import *\n",
    "import os\n",
    "from sklearn.cluster import DBSCAN \n",
    "from sklearn.preprocessing import StandardScaler \n",
    "from sklearn.preprocessing import normalize \n",
    "from sklearn.decomposition import PCA \n",
    "from sklearn.metrics import silhouette_samples, silhouette_score"
   ]
  },
  {
   "cell_type": "markdown",
   "metadata": {},
   "source": [
    "## [CHARGEMENT DES DONNEES](#sommaire)<a class=\"anchor\" id=\"4\"></a>"
   ]
  },
  {
   "cell_type": "code",
   "execution_count": 4,
   "metadata": {},
   "outputs": [],
   "source": [
    "### Lecture du fichier de sauvegarde de DF final\n",
    "file_customers_Final_Behaviour = 'data/final/customers_Final_Behaviour.csv'\n",
    "file_AllData = 'data/final/AllData.csv'\n",
    "\n",
    "customers_Final_Behaviour = pd.read_csv(file_customers_Final_Behaviour, sep='\\t', engine='python')\n",
    "all_Data = pd.read_csv(file_AllData, sep='\\t', engine='python')"
   ]
  },
  {
   "cell_type": "code",
   "execution_count": 5,
   "metadata": {},
   "outputs": [],
   "source": [
    "# Supression des variables des montants par categorie\n",
    "# en doublon(cf matrice de correlation) :\n",
    "customers_Final_Behaviour.drop(columns=['amount_sports_leisure',\n",
    "                                             'amount_health_beauty',\n",
    "                                             'amount_home',\n",
    "                                             'amount_furniture',\n",
    "                                             'amount_fashion',\n",
    "                                             'amount_misc',\n",
    "                                             'amount_construction',\n",
    "                                             'amount_electronics',\n",
    "                                             'amount_supplies',\n",
    "                                             'amount_food_drink',\n",
    "                                             'amount_gifts'], inplace=True)"
   ]
  },
  {
   "cell_type": "markdown",
   "metadata": {},
   "source": [
    "## [MISSION 1: DIFFERENTS TYPES DE SEGMENTATION ](#sommaire)<a class=\"anchor\" id=\"5\"></a>"
   ]
  },
  {
   "cell_type": "markdown",
   "metadata": {},
   "source": [
    "### [M1-1 : RFM ](#sommaire)<a class=\"anchor\" id=\"6\"></a>"
   ]
  },
  {
   "cell_type": "code",
   "execution_count": null,
   "metadata": {},
   "outputs": [],
   "source": []
  },
  {
   "cell_type": "markdown",
   "metadata": {},
   "source": [
    "### [M1-2 : K-Means ](#sommaire)<a class=\"anchor\" id=\"7\"></a>"
   ]
  },
  {
   "cell_type": "code",
   "execution_count": null,
   "metadata": {},
   "outputs": [],
   "source": []
  },
  {
   "cell_type": "markdown",
   "metadata": {},
   "source": [
    "### [M1-3 : DB-Scan ](#sommaire)<a class=\"anchor\" id=\"8\"></a>"
   ]
  },
  {
   "cell_type": "markdown",
   "metadata": {},
   "source": [
    "#### Préparation des données :"
   ]
  },
  {
   "cell_type": "code",
   "execution_count": 9,
   "metadata": {},
   "outputs": [],
   "source": [
    "customers_Final_Behaviour_dbscan = customers_Final_Behaviour.copy()\n",
    "customers_Final_Behaviour_dbscan_in = customers_Final_Behaviour_dbscan.drop(columns=['Unnamed: 0','customer_id', 'customer_unique_id','customer_city','customer_state','order_id','First_order_date'])\n",
    "customers_Final_Behaviour_dbscan_in.fillna(0, inplace = True)\n",
    "\n",
    "# Standardisation des variables :\n",
    "customers_Final_Behaviour_dbscan_std = customers_Final_Behaviour_dbscan_in.sample(20000).copy()\n",
    "# transformer les données en array numpy\n",
    "X = customers_Final_Behaviour_dbscan_std.values\n",
    "\n",
    "std_scale = StandardScaler().fit(X)\n",
    "X_scaled = std_scale.transform(X)"
   ]
  },
  {
   "cell_type": "markdown",
   "metadata": {},
   "source": [
    "#### Calcul des parametres(eps,mn_samples) pour dbscan :"
   ]
  },
  {
   "cell_type": "code",
   "execution_count": 10,
   "metadata": {},
   "outputs": [
    {
     "name": "stdout",
     "output_type": "stream",
     "text": [
      "eps =2\n",
      "{0, 1, 2, -1}\n",
      "pour eps =2 [0 1 0 ... 0 0 0]  le silhouette_score moyen est :  0.3170824217908753\n",
      "eps =4\n",
      "{0, 1, -1}\n",
      "pour eps =4 [0 0 0 ... 0 0 0]  le silhouette_score moyen est :  0.573163429324979\n",
      "eps =5\n",
      "{0, 1}\n",
      "pour eps =5 [0 0 0 ... 0 0 0]  le silhouette_score moyen est :  0.5737159571952241\n"
     ]
    }
   ],
   "source": [
    "# calcul de la valeur optimale de epsilon\n",
    "from sklearn.metrics import silhouette_samples, silhouette_score\n",
    "nbColumns = 19\n",
    "min_samples_default =nbColumns * 2\n",
    "\n",
    "range_eps = [2,4,5]\n",
    "for i in range_eps :\n",
    "    print('eps ='+str(i))\n",
    "    db = DBSCAN(eps = i, min_samples = min_samples_default).fit(X_scaled)\n",
    "    core_samples_mask = np.zeros_like(db.labels_, dtype=bool)\n",
    "    core_samples_mask[db.core_sample_indices_]= True\n",
    "    labels = db.labels_\n",
    "    print(set(labels))\n",
    "    silhouette_avg = silhouette_score(X_scaled, labels)\n",
    "    print(\"pour eps =\"+str(i),labels,\" le silhouette_score moyen est : \",silhouette_avg)\n",
    "    \n"
   ]
  },
  {
   "cell_type": "code",
   "execution_count": 29,
   "metadata": {},
   "outputs": [
    {
     "name": "stdout",
     "output_type": "stream",
     "text": [
      "min_samples =5\n",
      "{0, 1, 2, 3, 4, 5}\n",
      "Pour min_samples =5 {0, 1, 2, 3, 4, 5}  le nombre total de clusters est :  6\n",
      "min_samples =10\n",
      "{0, 1, 2, 3, 4}\n",
      "Pour min_samples =5 {0, 1, 2, 3, 4}  le nombre total de clusters est :  5\n",
      "min_samples =20\n",
      "{0, 1, 2, 3}\n",
      "Pour min_samples =5 {0, 1, 2, 3}  le nombre total de clusters est :  4\n",
      "min_samples =40\n",
      "{0, 1, 2}\n",
      "Pour min_samples =5 {0, 1, 2}  le nombre total de clusters est :  3\n"
     ]
    }
   ],
   "source": [
    "# calcul de la valeur min_sample\n",
    "min_samples = [5,10,20,40]\n",
    "for j in min_samples :\n",
    "    print('min_samples ='+str(j))\n",
    "    db = DBSCAN(eps = 5, min_samples = j).fit(X_scaled)\n",
    "    core_samples_mask = np.zeros_like(db.labels_, dtype=bool)\n",
    "    core_samples_mask[db.core_sample_indices_]= True\n",
    "    labels = set([label for label in db.labels_ if label >= 0]) # ignorer le label -1 comme un outlier\n",
    "    print(set(labels))\n",
    "    print(\"Pour min_samples =\"+str(i),labels,\" le nombre total de clusters est : \",str(len(set(labels))))"
   ]
  },
  {
   "cell_type": "code",
   "execution_count": 11,
   "metadata": {},
   "outputs": [
    {
     "data": {
      "text/plain": [
       "array([0, 1], dtype=int64)"
      ]
     },
     "execution_count": 11,
     "metadata": {},
     "output_type": "execute_result"
    }
   ],
   "source": [
    "# Numpy array of all the cluster labels assigned to each data point\n",
    "dbscan = DBSCAN(eps = 5, min_samples = 38).fit(X_scaled)\n",
    "clusters = dbscan.labels_\n",
    "customers_Final_Behaviour_dbscan_std['dbscan_cluster'] = dbscan.fit_predict(X_scaled)"
   ]
  },
  {
   "cell_type": "code",
   "execution_count": 14,
   "metadata": {},
   "outputs": [],
   "source": [
    "# Faire une transformation inverse de la normalisation faite Log :\n",
    "customers_Final_Behaviour_dbscan_inverse = customers_Final_Behaviour_dbscan_std.copy()\n",
    "\n",
    "customers_Final_Behaviour_dbscan_inverse_copy = customers_Final_Behaviour_dbscan_inverse.copy()\n",
    "# Les variables qui ont un coeeficient de skewness > 2\n",
    "listVarDensite = ['frequency_order',\n",
    "                  'monetary_amount_order',\n",
    "                  'mean_value_order', 'nbr_payments_type']\n",
    "for j,val in enumerate(listVarDensite):\n",
    "    # transformer les données pour le rendre normales  \n",
    "    customers_Final_Behaviour_dbscan_inverse_copy[val] =  np.exp(customers_Final_Behaviour_dbscan_inverse[val])-1  \n",
    "    jmax = j\n",
    "    \n",
    "#customers_Final_Behaviour_dbscan_inverse_copy.sort_values(by=\"dbscan_cluster\", ascending=False)"
   ]
  },
  {
   "cell_type": "code",
   "execution_count": 16,
   "metadata": {},
   "outputs": [],
   "source": [
    "# Affichage des repartitions des variables pour chaque cluster :\n",
    "#radar_plot(customers_Final_Behaviour_dbscan_inverse_copy, group='dbscan_cluster',\n",
    "#           xsize=0.25, ysize=0.25, figsize=(25, 25))\n"
   ]
  },
  {
   "cell_type": "markdown",
   "metadata": {},
   "source": [
    "#### Réduction des dimensions pour afficher les clusters :"
   ]
  },
  {
   "cell_type": "code",
   "execution_count": 17,
   "metadata": {},
   "outputs": [],
   "source": [
    "# TSNE est une technique utile pour visualiser des données avec beaucoup de variables. \n",
    "# L'algorithme t-SNE est intéressant car il utilise des distributions de probabilité conjointes pour décrire la proximité des points de données."
   ]
  },
  {
   "cell_type": "code",
   "execution_count": 18,
   "metadata": {},
   "outputs": [],
   "source": [
    "np.random.seed(1)\n",
    "#tnse_sample = X_scaled\n",
    "tnse_sample = customers_Final_Behaviour_dbscan_std"
   ]
  },
  {
   "cell_type": "code",
   "execution_count": 19,
   "metadata": {},
   "outputs": [],
   "source": [
    "import sklearn.manifold as manifold\n",
    "\n",
    "# On applique le T-SNE à l'échantillon\n",
    "tsne = manifold.TSNE(n_components=2, init='pca', perplexity=50, random_state=0)\n",
    "X_tsne = tsne.fit_transform(tnse_sample)"
   ]
  },
  {
   "cell_type": "code",
   "execution_count": null,
   "metadata": {},
   "outputs": [],
   "source": [
    "# Affichage du graphique\n",
    "clusters_sample = dbscan.fit_predict(X_scaled)\n",
    "plt.figure(figsize=(15, 12))\n",
    "plt.axis([np.min(X_tsne[:, 0] * 1.1), np.max(X_tsne[:, 0] * 1.1),\n",
    "          np.min(X_tsne[:, 1] * 1.1), np.max(X_tsne[:, 1] * 1.1)])\n",
    "\n",
    "colors = ['royalblue', 'maroon', 'forestgreen', 'mediumorchid', 'tan', 'deeppink', 'olive', 'goldenrod', 'lightcyan', 'navy','gray','purple']\n",
    "\n",
    "for i in range(len(np.unique(clusters_sample))):\n",
    "    idx = clusters_sample == i\n",
    "    plt.scatter(X_tsne[idx, 0], X_tsne[idx, 1], label=i, s=10, c=colors[i])\n",
    "    plt.title('T-SNE sur 4 clusters')\n",
    "\n",
    "plt.legend(loc='upper left', markerscale=2)\n",
    "plt.show()"
   ]
  },
  {
   "cell_type": "code",
   "execution_count": null,
   "metadata": {},
   "outputs": [],
   "source": []
  }
 ],
 "metadata": {
  "kernelspec": {
   "display_name": "Python 3",
   "language": "python",
   "name": "python3"
  },
  "language_info": {
   "codemirror_mode": {
    "name": "ipython",
    "version": 3
   },
   "file_extension": ".py",
   "mimetype": "text/x-python",
   "name": "python",
   "nbconvert_exporter": "python",
   "pygments_lexer": "ipython3",
   "version": "3.7.6"
  }
 },
 "nbformat": 4,
 "nbformat_minor": 2
}
