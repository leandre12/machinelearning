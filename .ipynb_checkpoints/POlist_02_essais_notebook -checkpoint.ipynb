{
 "cells": [
  {
   "cell_type": "markdown",
   "metadata": {},
   "source": [
    "# PROJET 4 : Segmentation des clients d'un site e-commerce\n"
   ]
  },
  {
   "cell_type": "markdown",
   "metadata": {},
   "source": [
    "## SOMMAIRE  <a class=\"anchor\" id=\"sommaire\"></a>\n",
    "## [IMPORT DES LIBRAIRIES](#3)<a class=\"anchor\" id=\"sommaire\"></a>\n",
    "## [CHARGEMENT DES DONNEES](#4)<a class=\"anchor\" id=\"sommaire\"></a>\n",
    "## [MISSION 1: DIFFERENTS TYPES DE SEGMENTATION ](#5)<a class=\"anchor\" id=\"sommaire\"></a>\n",
    "### [M1-1 : RFM](#6)<a class=\"anchor\" id=\"sommaire\"></a>\n",
    "### [M1-2 : K-MEANS](#7)<a class=\"anchor\" id=\"sommaire\"></a>\n",
    "### [M1-3 : DB-SCAN](#8)<a class=\"anchor\" id=\"sommaire\"></a>\n"
   ]
  },
  {
   "cell_type": "markdown",
   "metadata": {},
   "source": [
    "--------------------------------------------------------"
   ]
  },
  {
   "cell_type": "markdown",
   "metadata": {},
   "source": [
    "## [IMPORT DES LIBRAIRIES](#sommaire)<a class=\"anchor\" id=\"3\"></a>"
   ]
  },
  {
   "cell_type": "code",
   "execution_count": 1,
   "metadata": {},
   "outputs": [],
   "source": [
    "import numpy as np\n",
    "import pandas as pd\n",
    "import seaborn as sns\n",
    "from utils.functions import *\n",
    "import os"
   ]
  },
  {
   "cell_type": "markdown",
   "metadata": {},
   "source": [
    "## [CHARGEMENT DES DONNEES](#sommaire)<a class=\"anchor\" id=\"4\"></a>"
   ]
  },
  {
   "cell_type": "code",
   "execution_count": 2,
   "metadata": {},
   "outputs": [],
   "source": [
    "### Lecture du fichier de sauvegarde de DF final\n",
    "file_customers_Final_Behaviour = 'data/final/customers_Final_Behaviour.csv'\n",
    "file_AllData = 'data/final/AllData.csv'\n",
    "\n",
    "#customers_Final_Behaviour = pd.read_csv(file_customers_Final_Behaviour, sep='\\t', engine='python', index_col='customer_id')\n",
    "customers_Final_Behaviour = pd.read_csv(file_customers_Final_Behaviour, sep='\\t', engine='python')\n",
    "#all_Data = pd.read_csv(file_AllData, sep='\\t', engine='python', index_col='order_id')\n",
    "all_Data = pd.read_csv(file_AllData, sep='\\t', engine='python')"
   ]
  },
  {
   "cell_type": "code",
   "execution_count": 3,
   "metadata": {},
   "outputs": [],
   "source": [
    "all_Data_copy = all_Data.drop(columns=['Unnamed: 0'])\n",
    "customers_Final_Behaviour_copy = customers_Final_Behaviour.drop(columns=['Unnamed: 0'])"
   ]
  },
  {
   "cell_type": "code",
   "execution_count": 4,
   "metadata": {},
   "outputs": [],
   "source": [
    "#all_Data_copy.describe()"
   ]
  },
  {
   "cell_type": "code",
   "execution_count": 5,
   "metadata": {},
   "outputs": [],
   "source": [
    "#customers_Final_Behaviour_copy.describe()"
   ]
  },
  {
   "cell_type": "code",
   "execution_count": 61,
   "metadata": {},
   "outputs": [
    {
     "name": "stdout",
     "output_type": "stream",
     "text": [
      "<class 'pandas.core.frame.DataFrame'>\n",
      "RangeIndex: 94862 entries, 0 to 94861\n",
      "Data columns (total 53 columns):\n",
      " #   Column                 Non-Null Count  Dtype   \n",
      "---  ------                 --------------  -----   \n",
      " 0   customer_id            94862 non-null  object  \n",
      " 1   customer_unique_id     94862 non-null  object  \n",
      " 2   customer_city          94862 non-null  object  \n",
      " 3   recency_order          94862 non-null  int64   \n",
      " 4   frequency_order        94862 non-null  int64   \n",
      " 5   monetary_amount_order  94862 non-null  float64 \n",
      " 6   amount_sports_leisure  13878 non-null  float64 \n",
      " 7   amount_health_beauty   14482 non-null  float64 \n",
      " 8   amount_home            11163 non-null  float64 \n",
      " 9   amount_furniture       17463 non-null  float64 \n",
      " 10  amount_fashion         2332 non-null   float64 \n",
      " 11  amount_misc            2499 non-null   float64 \n",
      " 12  amount_construction    5331 non-null   float64 \n",
      " 13  amount_electronics     14593 non-null  float64 \n",
      " 14  amount_supplies        7241 non-null   float64 \n",
      " 15  amount_food_drink      961 non-null    float64 \n",
      " 16  amount_gifts           5491 non-null   float64 \n",
      " 17  STATE_AC               94862 non-null  int64   \n",
      " 18  STATE_AL               94862 non-null  int64   \n",
      " 19  STATE_AM               94862 non-null  int64   \n",
      " 20  STATE_AP               94862 non-null  int64   \n",
      " 21  STATE_BA               94862 non-null  int64   \n",
      " 22  STATE_CE               94862 non-null  int64   \n",
      " 23  STATE_DF               94862 non-null  int64   \n",
      " 24  STATE_ES               94862 non-null  int64   \n",
      " 25  STATE_GO               94862 non-null  int64   \n",
      " 26  STATE_MA               94862 non-null  int64   \n",
      " 27  STATE_MG               94862 non-null  int64   \n",
      " 28  STATE_MS               94862 non-null  int64   \n",
      " 29  STATE_MT               94862 non-null  int64   \n",
      " 30  STATE_PA               94862 non-null  int64   \n",
      " 31  STATE_PB               94862 non-null  int64   \n",
      " 32  STATE_PE               94862 non-null  int64   \n",
      " 33  STATE_PI               94862 non-null  int64   \n",
      " 34  STATE_PR               94862 non-null  int64   \n",
      " 35  STATE_RJ               94862 non-null  int64   \n",
      " 36  STATE_RN               94862 non-null  int64   \n",
      " 37  STATE_RO               94862 non-null  int64   \n",
      " 38  STATE_RR               94862 non-null  int64   \n",
      " 39  STATE_RS               94862 non-null  int64   \n",
      " 40  STATE_SC               94862 non-null  int64   \n",
      " 41  STATE_SE               94862 non-null  int64   \n",
      " 42  STATE_SP               94862 non-null  int64   \n",
      " 43  STATE_TO               94862 non-null  int64   \n",
      " 44  r_percentile           94862 non-null  float64 \n",
      " 45  r_score                94862 non-null  category\n",
      " 46  f_percentile           94862 non-null  float64 \n",
      " 47  f_score                94862 non-null  category\n",
      " 48  m_percentile           94862 non-null  float64 \n",
      " 49  m_score                94862 non-null  category\n",
      " 50  rfm_concat_score       94862 non-null  object  \n",
      " 51  rfm_score              94862 non-null  int32   \n",
      " 52  rfm_level              94862 non-null  object  \n",
      "dtypes: category(3), float64(15), int32(1), int64(29), object(5)\n",
      "memory usage: 36.1+ MB\n"
     ]
    }
   ],
   "source": [
    "customers_Final_Behaviour_copy.info()"
   ]
  },
  {
   "cell_type": "code",
   "execution_count": 7,
   "metadata": {},
   "outputs": [],
   "source": [
    "#customers_Final_Behaviour_copy.sort_values(by='frequency_order', ascending='False')"
   ]
  },
  {
   "cell_type": "markdown",
   "metadata": {},
   "source": [
    "## [MISSION 1: DIFFERENTS TYPES DE SEGMENTATION ](#sommaire)<a class=\"anchor\" id=\"5\"></a>"
   ]
  },
  {
   "cell_type": "markdown",
   "metadata": {},
   "source": [
    "### K-Means"
   ]
  },
  {
   "cell_type": "code",
   "execution_count": null,
   "metadata": {},
   "outputs": [],
   "source": []
  },
  {
   "cell_type": "markdown",
   "metadata": {},
   "source": [
    "### [M1-1 : RFM ](#sommaire)<a class=\"anchor\" id=\"6\"></a>"
   ]
  },
  {
   "cell_type": "code",
   "execution_count": 8,
   "metadata": {},
   "outputs": [],
   "source": [
    "customers_Final_Behaviour_rfm = customers_Final_Behaviour_copy.copy()\n",
    "#customers_Final_Behaviour_copy.frequency_order.unique()"
   ]
  },
  {
   "cell_type": "code",
   "execution_count": 9,
   "metadata": {},
   "outputs": [
    {
     "data": {
      "text/plain": [
       "<matplotlib.axes._subplots.AxesSubplot at 0x11b4c9e4808>"
      ]
     },
     "execution_count": 9,
     "metadata": {},
     "output_type": "execute_result"
    },
    {
     "data": {
      "image/png": "[encoded data removed]",
      "text/plain": [
       "<Figure size 1440x1080 with 1 Axes>"
      ]
     },
     "metadata": {
      "needs_background": "light"
     },
     "output_type": "display_data"
    }
   ],
   "source": [
    "plt.figure(figsize=(20, 15))\n",
    "plt.subplot(3, 3, 1)\n",
    "sns.distplot(customers_Final_Behaviour_copy['recency_order'])\n",
    "#plt.subplot(3, 3, 2)\n",
    "#sns.distplot(customers_Final_Behaviour_copy['frequency_order'])\n",
    "#plt.subplot(3, 3, 3)\n",
    "#sns.distplot(customers_Final_Behaviour_copy['monetary_amount_order'])"
   ]
  },
  {
   "cell_type": "code",
   "execution_count": 26,
   "metadata": {},
   "outputs": [],
   "source": [
    "#plt.figure(figsize=(20, 15))\n",
    "#plt.subplot(3, 3, 2)\n",
    "#sns.distplot(customers_Final_Behaviour_copy['frequency_order'])"
   ]
  },
  {
   "cell_type": "code",
   "execution_count": 11,
   "metadata": {},
   "outputs": [
    {
     "data": {
      "text/plain": [
       "<matplotlib.axes._subplots.AxesSubplot at 0x11b4cc1e588>"
      ]
     },
     "execution_count": 11,
     "metadata": {},
     "output_type": "execute_result"
    },
    {
     "data": {
      "image/png": "[encoded data removed]",
      "text/plain": [
       "<Figure size 1440x1080 with 1 Axes>"
      ]
     },
     "metadata": {
      "needs_background": "light"
     },
     "output_type": "display_data"
    }
   ],
   "source": [
    "plt.figure(figsize=(20, 15))\n",
    "plt.subplot(3, 3, 3)\n",
    "sns.distplot(customers_Final_Behaviour_copy['monetary_amount_order'])"
   ]
  },
  {
   "cell_type": "code",
   "execution_count": 12,
   "metadata": {},
   "outputs": [],
   "source": [
    "customers_Final_Behaviour_copy['r_percentile'] = customers_Final_Behaviour_copy['recency_order'].rank(method='first')\n",
    "customers_Final_Behaviour_copy['r_score'] = pd.qcut(customers_Final_Behaviour_copy['r_percentile'], 4,labels=range(4,0,-1))\n",
    "\n",
    "customers_Final_Behaviour_copy['f_percentile'] = customers_Final_Behaviour_copy['frequency_order'].rank(method='first')\n",
    "customers_Final_Behaviour_copy['f_score'] = pd.qcut(customers_Final_Behaviour_copy['f_percentile'], 4, labels=range(4,0,-1))\n",
    "\n",
    "customers_Final_Behaviour_copy['m_percentile'] = customers_Final_Behaviour_copy['monetary_amount_order'].rank(method='first')\n",
    "customers_Final_Behaviour_copy['m_score'] = pd.qcut(customers_Final_Behaviour_copy['m_percentile'], 4, labels=range(4,0,-1))\n",
    "\n",
    "customers_Final_Behaviour_copy['rfm_concat_score'] = customers_Final_Behaviour_copy['r_score'].astype(str) + customers_Final_Behaviour_copy['f_score'].astype(str) + customers_Final_Behaviour_copy['m_score'].astype(str)\n",
    "customers_Final_Behaviour_copy['rfm_score'] = customers_Final_Behaviour_copy['r_score'].astype(int) + customers_Final_Behaviour_copy['f_score'].astype(int) + customers_Final_Behaviour_copy['m_score'].astype(int)"
   ]
  },
  {
   "cell_type": "code",
   "execution_count": 13,
   "metadata": {},
   "outputs": [
    {
     "data": {
      "text/html": [
       "<div>\n",
       "<style scoped>\n",
       "    .dataframe tbody tr th:only-of-type {\n",
       "        vertical-align: middle;\n",
       "    }\n",
       "\n",
       "    .dataframe tbody tr th {\n",
       "        vertical-align: top;\n",
       "    }\n",
       "\n",
       "    .dataframe thead th {\n",
       "        text-align: right;\n",
       "    }\n",
       "</style>\n",
       "<table border=\"1\" class=\"dataframe\">\n",
       "  <thead>\n",
       "    <tr style=\"text-align: right;\">\n",
       "      <th></th>\n",
       "      <th>customer_id</th>\n",
       "      <th>customer_unique_id</th>\n",
       "      <th>customer_city</th>\n",
       "      <th>recency_order</th>\n",
       "      <th>frequency_order</th>\n",
       "      <th>monetary_amount_order</th>\n",
       "      <th>amount_sports_leisure</th>\n",
       "      <th>amount_health_beauty</th>\n",
       "      <th>amount_home</th>\n",
       "      <th>amount_furniture</th>\n",
       "      <th>...</th>\n",
       "      <th>STATE_SP</th>\n",
       "      <th>STATE_TO</th>\n",
       "      <th>r_percentile</th>\n",
       "      <th>r_score</th>\n",
       "      <th>f_percentile</th>\n",
       "      <th>f_score</th>\n",
       "      <th>m_percentile</th>\n",
       "      <th>m_score</th>\n",
       "      <th>rfm_concat_score</th>\n",
       "      <th>rfm_score</th>\n",
       "    </tr>\n",
       "  </thead>\n",
       "  <tbody>\n",
       "    <tr>\n",
       "      <th>0</th>\n",
       "      <td>06b8999e2fba1a1fbc88172c00ba8bc7</td>\n",
       "      <td>861eff4711a542e4b93843c6dd7febb0</td>\n",
       "      <td>franca</td>\n",
       "      <td>469</td>\n",
       "      <td>1</td>\n",
       "      <td>4.996334</td>\n",
       "      <td>NaN</td>\n",
       "      <td>NaN</td>\n",
       "      <td>NaN</td>\n",
       "      <td>4.996334</td>\n",
       "      <td>...</td>\n",
       "      <td>1</td>\n",
       "      <td>0</td>\n",
       "      <td>85969.0</td>\n",
       "      <td>1</td>\n",
       "      <td>1.0</td>\n",
       "      <td>4</td>\n",
       "      <td>60035.0</td>\n",
       "      <td>2</td>\n",
       "      <td>142</td>\n",
       "      <td>7</td>\n",
       "    </tr>\n",
       "    <tr>\n",
       "      <th>1</th>\n",
       "      <td>18955e83d337fd6b2def6b18a428ac77</td>\n",
       "      <td>290c77bc529b7ac935b93aa66c333dc3</td>\n",
       "      <td>sao bernardo do campo</td>\n",
       "      <td>228</td>\n",
       "      <td>1</td>\n",
       "      <td>5.818539</td>\n",
       "      <td>NaN</td>\n",
       "      <td>NaN</td>\n",
       "      <td>5.818539</td>\n",
       "      <td>NaN</td>\n",
       "      <td>...</td>\n",
       "      <td>1</td>\n",
       "      <td>0</td>\n",
       "      <td>49517.0</td>\n",
       "      <td>2</td>\n",
       "      <td>2.0</td>\n",
       "      <td>4</td>\n",
       "      <td>83325.0</td>\n",
       "      <td>1</td>\n",
       "      <td>241</td>\n",
       "      <td>7</td>\n",
       "    </tr>\n",
       "    <tr>\n",
       "      <th>2</th>\n",
       "      <td>4e7b3e00288586ebd08712fdd0374a03</td>\n",
       "      <td>060e732b5b29e8181a18229c7b0b2b5e</td>\n",
       "      <td>sao paulo</td>\n",
       "      <td>101</td>\n",
       "      <td>1</td>\n",
       "      <td>5.067205</td>\n",
       "      <td>NaN</td>\n",
       "      <td>NaN</td>\n",
       "      <td>NaN</td>\n",
       "      <td>5.067205</td>\n",
       "      <td>...</td>\n",
       "      <td>1</td>\n",
       "      <td>0</td>\n",
       "      <td>20112.0</td>\n",
       "      <td>4</td>\n",
       "      <td>3.0</td>\n",
       "      <td>4</td>\n",
       "      <td>62925.0</td>\n",
       "      <td>2</td>\n",
       "      <td>442</td>\n",
       "      <td>10</td>\n",
       "    </tr>\n",
       "    <tr>\n",
       "      <th>3</th>\n",
       "      <td>b2b6027bc5c5109e529d4dc6358b12c3</td>\n",
       "      <td>259dac757896d24d7702b9acbbff3f3c</td>\n",
       "      <td>mogi das cruzes</td>\n",
       "      <td>168</td>\n",
       "      <td>1</td>\n",
       "      <td>5.160778</td>\n",
       "      <td>NaN</td>\n",
       "      <td>NaN</td>\n",
       "      <td>NaN</td>\n",
       "      <td>5.160778</td>\n",
       "      <td>...</td>\n",
       "      <td>1</td>\n",
       "      <td>0</td>\n",
       "      <td>35800.0</td>\n",
       "      <td>3</td>\n",
       "      <td>4.0</td>\n",
       "      <td>4</td>\n",
       "      <td>66821.0</td>\n",
       "      <td>2</td>\n",
       "      <td>342</td>\n",
       "      <td>9</td>\n",
       "    </tr>\n",
       "    <tr>\n",
       "      <th>4</th>\n",
       "      <td>4f2d8ab171c80ec8364f7c12e35b23ad</td>\n",
       "      <td>345ecd01c38d18a9036ed96c73b8d066</td>\n",
       "      <td>campinas</td>\n",
       "      <td>31</td>\n",
       "      <td>1</td>\n",
       "      <td>5.534377</td>\n",
       "      <td>NaN</td>\n",
       "      <td>NaN</td>\n",
       "      <td>5.534377</td>\n",
       "      <td>NaN</td>\n",
       "      <td>...</td>\n",
       "      <td>1</td>\n",
       "      <td>0</td>\n",
       "      <td>7016.0</td>\n",
       "      <td>4</td>\n",
       "      <td>5.0</td>\n",
       "      <td>4</td>\n",
       "      <td>78105.0</td>\n",
       "      <td>1</td>\n",
       "      <td>441</td>\n",
       "      <td>9</td>\n",
       "    </tr>\n",
       "  </tbody>\n",
       "</table>\n",
       "<p>5 rows × 52 columns</p>\n",
       "</div>"
      ],
      "text/plain": [
       "                        customer_id                customer_unique_id  \\\n",
       "0  06b8999e2fba1a1fbc88172c00ba8bc7  861eff4711a542e4b93843c6dd7febb0   \n",
       "1  18955e83d337fd6b2def6b18a428ac77  290c77bc529b7ac935b93aa66c333dc3   \n",
       "2  4e7b3e00288586ebd08712fdd0374a03  060e732b5b29e8181a18229c7b0b2b5e   \n",
       "3  b2b6027bc5c5109e529d4dc6358b12c3  259dac757896d24d7702b9acbbff3f3c   \n",
       "4  4f2d8ab171c80ec8364f7c12e35b23ad  345ecd01c38d18a9036ed96c73b8d066   \n",
       "\n",
       "           customer_city  recency_order  frequency_order  \\\n",
       "0                 franca            469                1   \n",
       "1  sao bernardo do campo            228                1   \n",
       "2              sao paulo            101                1   \n",
       "3        mogi das cruzes            168                1   \n",
       "4               campinas             31                1   \n",
       "\n",
       "   monetary_amount_order  amount_sports_leisure  amount_health_beauty  \\\n",
       "0               4.996334                    NaN                   NaN   \n",
       "1               5.818539                    NaN                   NaN   \n",
       "2               5.067205                    NaN                   NaN   \n",
       "3               5.160778                    NaN                   NaN   \n",
       "4               5.534377                    NaN                   NaN   \n",
       "\n",
       "   amount_home  amount_furniture  ...  STATE_SP  STATE_TO  r_percentile  \\\n",
       "0          NaN          4.996334  ...         1         0       85969.0   \n",
       "1     5.818539               NaN  ...         1         0       49517.0   \n",
       "2          NaN          5.067205  ...         1         0       20112.0   \n",
       "3          NaN          5.160778  ...         1         0       35800.0   \n",
       "4     5.534377               NaN  ...         1         0        7016.0   \n",
       "\n",
       "   r_score  f_percentile  f_score  m_percentile  m_score  rfm_concat_score  \\\n",
       "0        1           1.0        4       60035.0        2               142   \n",
       "1        2           2.0        4       83325.0        1               241   \n",
       "2        4           3.0        4       62925.0        2               442   \n",
       "3        3           4.0        4       66821.0        2               342   \n",
       "4        4           5.0        4       78105.0        1               441   \n",
       "\n",
       "   rfm_score  \n",
       "0          7  \n",
       "1          7  \n",
       "2         10  \n",
       "3          9  \n",
       "4          9  \n",
       "\n",
       "[5 rows x 52 columns]"
      ]
     },
     "execution_count": 13,
     "metadata": {},
     "output_type": "execute_result"
    }
   ],
   "source": [
    "customers_Final_Behaviour_copy.head()"
   ]
  },
  {
   "cell_type": "code",
   "execution_count": 14,
   "metadata": {},
   "outputs": [
    {
     "data": {
      "image/png": "[encoded data removed]",
      "text/plain": [
       "<Figure size 1080x360 with 1 Axes>"
      ]
     },
     "metadata": {
      "needs_background": "light"
     },
     "output_type": "display_data"
    }
   ],
   "source": [
    "ax = customers_Final_Behaviour_copy['rfm_concat_score'].value_counts().plot(kind='bar', figsize=(15, 5), fontsize=12)\n",
    "ax.set_xlabel(\"RFM Concat Score\", fontsize=12)\n",
    "ax.set_ylabel(\"Count\", fontsize=12)\n",
    "plt.show()"
   ]
  },
  {
   "cell_type": "code",
   "execution_count": 15,
   "metadata": {},
   "outputs": [
    {
     "data": {
      "text/html": [
       "<div>\n",
       "<style scoped>\n",
       "    .dataframe tbody tr th:only-of-type {\n",
       "        vertical-align: middle;\n",
       "    }\n",
       "\n",
       "    .dataframe tbody tr th {\n",
       "        vertical-align: top;\n",
       "    }\n",
       "\n",
       "    .dataframe thead th {\n",
       "        text-align: right;\n",
       "    }\n",
       "</style>\n",
       "<table border=\"1\" class=\"dataframe\">\n",
       "  <thead>\n",
       "    <tr style=\"text-align: right;\">\n",
       "      <th></th>\n",
       "      <th>Q_Recency</th>\n",
       "      <th>Q_Frequency</th>\n",
       "      <th>Q_Monetary</th>\n",
       "    </tr>\n",
       "  </thead>\n",
       "  <tbody>\n",
       "    <tr>\n",
       "      <th>min</th>\n",
       "      <td>0.0</td>\n",
       "      <td>1.0</td>\n",
       "      <td>2.359910</td>\n",
       "    </tr>\n",
       "    <tr>\n",
       "      <th>first_part</th>\n",
       "      <td>114.0</td>\n",
       "      <td>1.0</td>\n",
       "      <td>4.154342</td>\n",
       "    </tr>\n",
       "    <tr>\n",
       "      <th>second_part</th>\n",
       "      <td>219.0</td>\n",
       "      <td>1.0</td>\n",
       "      <td>4.703521</td>\n",
       "    </tr>\n",
       "    <tr>\n",
       "      <th>third_part</th>\n",
       "      <td>347.0</td>\n",
       "      <td>1.0</td>\n",
       "      <td>5.282747</td>\n",
       "    </tr>\n",
       "    <tr>\n",
       "      <th>max</th>\n",
       "      <td>601.0</td>\n",
       "      <td>21.0</td>\n",
       "      <td>11.601976</td>\n",
       "    </tr>\n",
       "  </tbody>\n",
       "</table>\n",
       "</div>"
      ],
      "text/plain": [
       "             Q_Recency  Q_Frequency  Q_Monetary\n",
       "min                0.0          1.0    2.359910\n",
       "first_part       114.0          1.0    4.154342\n",
       "second_part      219.0          1.0    4.703521\n",
       "third_part       347.0          1.0    5.282747\n",
       "max              601.0         21.0   11.601976"
      ]
     },
     "execution_count": 15,
     "metadata": {},
     "output_type": "execute_result"
    }
   ],
   "source": [
    "r_quarters = customers_Final_Behaviour_copy['recency_order'].quantile(q=[0.0, 0.25,0.5,0.75, 1]).to_list()\n",
    "f_quarters = customers_Final_Behaviour_copy['frequency_order'].quantile(q=[0.0, 0.25,0.5,0.75, 1]).to_list()\n",
    "m_quarters = customers_Final_Behaviour_copy['monetary_amount_order'].quantile(q=[0.0, 0.25,0.5,0.75, 1]).to_list()\n",
    "quartile_spread = pd.DataFrame(list(zip(r_quarters, f_quarters, m_quarters)), \n",
    "                      columns=['Q_Recency','Q_Frequency', 'Q_Monetary'],\n",
    "                     index = ['min', 'first_part','second_part','third_part', 'max'])\n",
    "quartile_spread"
   ]
  },
  {
   "cell_type": "code",
   "execution_count": 29,
   "metadata": {},
   "outputs": [],
   "source": [
    "#plt.figure(figsize = (16,6))\n",
    "#hist = plt.hist(customers_Final_Behaviour_copy['monetary_amount_order'], bins=100, align='left', color='cornflowerblue')\n",
    "#for q in m_quarters:\n",
    "#    plt.vlines(q, ymin=0, ymax = max(hist[0]))"
   ]
  },
  {
   "cell_type": "code",
   "execution_count": 28,
   "metadata": {},
   "outputs": [],
   "source": [
    "#plt.figure(figsize = (16,6))\n",
    "#hist = plt.hist(customers_Final_Behaviour_copy['recency_order'], bins=100, align='left', color='cornflowerblue')\n",
    "#for q in r_quarters:\n",
    "#    plt.vlines(q, ymin=0, ymax = max(hist[0]))"
   ]
  },
  {
   "cell_type": "code",
   "execution_count": 27,
   "metadata": {},
   "outputs": [],
   "source": [
    "#plt.figure(figsize = (16,6))\n",
    "#hist = plt.hist(customers_Final_Behaviour_copy['frequency_order'], bins=100, align='left', color='cornflowerblue')\n",
    "#for q in f_quarters:\n",
    "#    plt.vlines(q, ymin=0, ymax = max(hist[0]))"
   ]
  },
  {
   "cell_type": "markdown",
   "metadata": {},
   "source": [
    "La majorité des consommateurs n'ont commandé qu'une fois donc le RFM n'est pas forcement la methode la plus adaptée"
   ]
  },
  {
   "cell_type": "code",
   "execution_count": 19,
   "metadata": {},
   "outputs": [],
   "source": [
    "#customers_Final_Behaviour_copy"
   ]
  },
  {
   "cell_type": "code",
   "execution_count": 20,
   "metadata": {},
   "outputs": [
    {
     "data": {
      "text/html": [
       "<div>\n",
       "<style scoped>\n",
       "    .dataframe tbody tr th:only-of-type {\n",
       "        vertical-align: middle;\n",
       "    }\n",
       "\n",
       "    .dataframe tbody tr th {\n",
       "        vertical-align: top;\n",
       "    }\n",
       "\n",
       "    .dataframe thead th {\n",
       "        text-align: right;\n",
       "    }\n",
       "</style>\n",
       "<table border=\"1\" class=\"dataframe\">\n",
       "  <thead>\n",
       "    <tr style=\"text-align: right;\">\n",
       "      <th></th>\n",
       "      <th>customer_id</th>\n",
       "      <th>customer_unique_id</th>\n",
       "      <th>customer_city</th>\n",
       "      <th>recency_order</th>\n",
       "      <th>frequency_order</th>\n",
       "      <th>monetary_amount_order</th>\n",
       "      <th>amount_sports_leisure</th>\n",
       "      <th>amount_health_beauty</th>\n",
       "      <th>amount_home</th>\n",
       "      <th>amount_furniture</th>\n",
       "      <th>...</th>\n",
       "      <th>STATE_TO</th>\n",
       "      <th>r_percentile</th>\n",
       "      <th>r_score</th>\n",
       "      <th>f_percentile</th>\n",
       "      <th>f_score</th>\n",
       "      <th>m_percentile</th>\n",
       "      <th>m_score</th>\n",
       "      <th>rfm_concat_score</th>\n",
       "      <th>rfm_score</th>\n",
       "      <th>rfm_level</th>\n",
       "    </tr>\n",
       "  </thead>\n",
       "  <tbody>\n",
       "    <tr>\n",
       "      <th>0</th>\n",
       "      <td>06b8999e2fba1a1fbc88172c00ba8bc7</td>\n",
       "      <td>861eff4711a542e4b93843c6dd7febb0</td>\n",
       "      <td>franca</td>\n",
       "      <td>469</td>\n",
       "      <td>1</td>\n",
       "      <td>4.996334</td>\n",
       "      <td>NaN</td>\n",
       "      <td>NaN</td>\n",
       "      <td>NaN</td>\n",
       "      <td>4.996334</td>\n",
       "      <td>...</td>\n",
       "      <td>0</td>\n",
       "      <td>85969.0</td>\n",
       "      <td>1</td>\n",
       "      <td>1.0</td>\n",
       "      <td>4</td>\n",
       "      <td>60035.0</td>\n",
       "      <td>2</td>\n",
       "      <td>142</td>\n",
       "      <td>7</td>\n",
       "      <td>Loyal</td>\n",
       "    </tr>\n",
       "    <tr>\n",
       "      <th>1</th>\n",
       "      <td>18955e83d337fd6b2def6b18a428ac77</td>\n",
       "      <td>290c77bc529b7ac935b93aa66c333dc3</td>\n",
       "      <td>sao bernardo do campo</td>\n",
       "      <td>228</td>\n",
       "      <td>1</td>\n",
       "      <td>5.818539</td>\n",
       "      <td>NaN</td>\n",
       "      <td>NaN</td>\n",
       "      <td>5.818539</td>\n",
       "      <td>NaN</td>\n",
       "      <td>...</td>\n",
       "      <td>0</td>\n",
       "      <td>49517.0</td>\n",
       "      <td>2</td>\n",
       "      <td>2.0</td>\n",
       "      <td>4</td>\n",
       "      <td>83325.0</td>\n",
       "      <td>1</td>\n",
       "      <td>241</td>\n",
       "      <td>7</td>\n",
       "      <td>Loyal</td>\n",
       "    </tr>\n",
       "    <tr>\n",
       "      <th>2</th>\n",
       "      <td>4e7b3e00288586ebd08712fdd0374a03</td>\n",
       "      <td>060e732b5b29e8181a18229c7b0b2b5e</td>\n",
       "      <td>sao paulo</td>\n",
       "      <td>101</td>\n",
       "      <td>1</td>\n",
       "      <td>5.067205</td>\n",
       "      <td>NaN</td>\n",
       "      <td>NaN</td>\n",
       "      <td>NaN</td>\n",
       "      <td>5.067205</td>\n",
       "      <td>...</td>\n",
       "      <td>0</td>\n",
       "      <td>20112.0</td>\n",
       "      <td>4</td>\n",
       "      <td>3.0</td>\n",
       "      <td>4</td>\n",
       "      <td>62925.0</td>\n",
       "      <td>2</td>\n",
       "      <td>442</td>\n",
       "      <td>10</td>\n",
       "      <td>Can't Loose Them</td>\n",
       "    </tr>\n",
       "    <tr>\n",
       "      <th>3</th>\n",
       "      <td>b2b6027bc5c5109e529d4dc6358b12c3</td>\n",
       "      <td>259dac757896d24d7702b9acbbff3f3c</td>\n",
       "      <td>mogi das cruzes</td>\n",
       "      <td>168</td>\n",
       "      <td>1</td>\n",
       "      <td>5.160778</td>\n",
       "      <td>NaN</td>\n",
       "      <td>NaN</td>\n",
       "      <td>NaN</td>\n",
       "      <td>5.160778</td>\n",
       "      <td>...</td>\n",
       "      <td>0</td>\n",
       "      <td>35800.0</td>\n",
       "      <td>3</td>\n",
       "      <td>4.0</td>\n",
       "      <td>4</td>\n",
       "      <td>66821.0</td>\n",
       "      <td>2</td>\n",
       "      <td>342</td>\n",
       "      <td>9</td>\n",
       "      <td>Can't Loose Them</td>\n",
       "    </tr>\n",
       "    <tr>\n",
       "      <th>4</th>\n",
       "      <td>4f2d8ab171c80ec8364f7c12e35b23ad</td>\n",
       "      <td>345ecd01c38d18a9036ed96c73b8d066</td>\n",
       "      <td>campinas</td>\n",
       "      <td>31</td>\n",
       "      <td>1</td>\n",
       "      <td>5.534377</td>\n",
       "      <td>NaN</td>\n",
       "      <td>NaN</td>\n",
       "      <td>5.534377</td>\n",
       "      <td>NaN</td>\n",
       "      <td>...</td>\n",
       "      <td>0</td>\n",
       "      <td>7016.0</td>\n",
       "      <td>4</td>\n",
       "      <td>5.0</td>\n",
       "      <td>4</td>\n",
       "      <td>78105.0</td>\n",
       "      <td>1</td>\n",
       "      <td>441</td>\n",
       "      <td>9</td>\n",
       "      <td>Can't Loose Them</td>\n",
       "    </tr>\n",
       "  </tbody>\n",
       "</table>\n",
       "<p>5 rows × 53 columns</p>\n",
       "</div>"
      ],
      "text/plain": [
       "                        customer_id                customer_unique_id  \\\n",
       "0  06b8999e2fba1a1fbc88172c00ba8bc7  861eff4711a542e4b93843c6dd7febb0   \n",
       "1  18955e83d337fd6b2def6b18a428ac77  290c77bc529b7ac935b93aa66c333dc3   \n",
       "2  4e7b3e00288586ebd08712fdd0374a03  060e732b5b29e8181a18229c7b0b2b5e   \n",
       "3  b2b6027bc5c5109e529d4dc6358b12c3  259dac757896d24d7702b9acbbff3f3c   \n",
       "4  4f2d8ab171c80ec8364f7c12e35b23ad  345ecd01c38d18a9036ed96c73b8d066   \n",
       "\n",
       "           customer_city  recency_order  frequency_order  \\\n",
       "0                 franca            469                1   \n",
       "1  sao bernardo do campo            228                1   \n",
       "2              sao paulo            101                1   \n",
       "3        mogi das cruzes            168                1   \n",
       "4               campinas             31                1   \n",
       "\n",
       "   monetary_amount_order  amount_sports_leisure  amount_health_beauty  \\\n",
       "0               4.996334                    NaN                   NaN   \n",
       "1               5.818539                    NaN                   NaN   \n",
       "2               5.067205                    NaN                   NaN   \n",
       "3               5.160778                    NaN                   NaN   \n",
       "4               5.534377                    NaN                   NaN   \n",
       "\n",
       "   amount_home  amount_furniture  ...  STATE_TO  r_percentile  r_score  \\\n",
       "0          NaN          4.996334  ...         0       85969.0        1   \n",
       "1     5.818539               NaN  ...         0       49517.0        2   \n",
       "2          NaN          5.067205  ...         0       20112.0        4   \n",
       "3          NaN          5.160778  ...         0       35800.0        3   \n",
       "4     5.534377               NaN  ...         0        7016.0        4   \n",
       "\n",
       "   f_percentile  f_score  m_percentile  m_score  rfm_concat_score  rfm_score  \\\n",
       "0           1.0        4       60035.0        2               142          7   \n",
       "1           2.0        4       83325.0        1               241          7   \n",
       "2           3.0        4       62925.0        2               442         10   \n",
       "3           4.0        4       66821.0        2               342          9   \n",
       "4           5.0        4       78105.0        1               441          9   \n",
       "\n",
       "          rfm_level  \n",
       "0             Loyal  \n",
       "1             Loyal  \n",
       "2  Can't Loose Them  \n",
       "3  Can't Loose Them  \n",
       "4  Can't Loose Them  \n",
       "\n",
       "[5 rows x 53 columns]"
      ]
     },
     "execution_count": 20,
     "metadata": {},
     "output_type": "execute_result"
    }
   ],
   "source": [
    "# Define rfm_level function\n",
    "df = customers_Final_Behaviour_copy\n",
    "def rfm_level(df):\n",
    "    if df['rfm_score'] >= 9:\n",
    "        return 'Can\\'t Loose Them'\n",
    "    elif ((df['rfm_score'] >= 8) and (df['rfm_score'] < 9)):\n",
    "        return 'Champions'\n",
    "    elif ((df['rfm_score'] >= 7) and (df['rfm_score'] < 8)):\n",
    "        return 'Loyal'\n",
    "    elif ((df['rfm_score'] >= 6) and (df['rfm_score'] < 7)):\n",
    "        return 'Potential'\n",
    "    elif ((df['rfm_score'] >= 5) and (df['rfm_score'] < 6)):\n",
    "        return 'Promising'\n",
    "    elif ((df['rfm_score'] >= 4) and (df['rfm_score'] < 5)):\n",
    "        return 'Needs Attention'\n",
    "    else:\n",
    "        return 'Require Activation'\n",
    "# Create a new variable RFM_Level\n",
    "customers_Final_Behaviour_copy['rfm_level'] = customers_Final_Behaviour_copy.apply(rfm_level, axis=1)\n",
    "# Print the header with top 5 rows to the console\n",
    "customers_Final_Behaviour_copy.head()"
   ]
  },
  {
   "cell_type": "code",
   "execution_count": 22,
   "metadata": {},
   "outputs": [
    {
     "name": "stdout",
     "output_type": "stream",
     "text": [
      "                   recency_order frequency_order monetary_amount_order       \n",
      "                            mean            mean                  mean  count\n",
      "rfm_level                                                                    \n",
      "Can't Loose Them           146.7             1.0                   4.2  31315\n",
      "Champions                  228.0             1.0                   4.6  17263\n",
      "Loyal                      270.7             1.0                   4.8  16066\n",
      "Needs Attention            360.7             1.7                   5.8   5115\n",
      "Potential                  281.5             1.2                   5.2  13863\n",
      "Promising                  314.5             1.4                   5.5   8719\n",
      "Require Activation         448.1             2.1                   6.2   2521\n"
     ]
    }
   ],
   "source": [
    "# Calculate average values for each RFM_Level, and return a size of each segment \n",
    "rfm_level_agg = customers_Final_Behaviour_copy.groupby('rfm_level').agg({\n",
    "    'recency_order': 'mean',\n",
    "    'frequency_order': 'mean',\n",
    "    'monetary_amount_order': ['mean', 'count']\n",
    "}).round(1)\n",
    "# Print the aggregated dataset\n",
    "print(rfm_level_agg)"
   ]
  },
  {
   "cell_type": "code",
   "execution_count": null,
   "metadata": {},
   "outputs": [],
   "source": [
    "import matplotlib.pyplot as plt\n",
    "import squarify\n",
    "\n",
    "rfm_level_agg.columns = rfm_level_agg.columns.droplevel()\n",
    "rfm_level_agg.columns = ['RecencyMean','FrequencyMean','MonetaryMean', 'Count']\n",
    "#Create our plot and resize it.\n",
    "fig = plt.gcf()\n",
    "ax = fig.add_subplot()\n",
    "fig.set_size_inches(16, 9)\n",
    "squarify.plot(sizes=rfm_level_agg['Count'], \n",
    "              label=['Can\\'t Loose Them',\n",
    "                     'Champions',\n",
    "                     'Loyal',\n",
    "                     'Needs Attention',\n",
    "                     'Potential', \n",
    "                     'Promising', \n",
    "                     'Require Activation'], alpha=.6 )\n",
    "plt.title(\"RFM Segments\",fontsize=18,fontweight=\"bold\")\n",
    "plt.axis('off')\n",
    "plt.show()"
   ]
  },
  {
   "cell_type": "markdown",
   "metadata": {},
   "source": [
    "### [M1-2 : K-Means ](#sommaire)<a class=\"anchor\" id=\"7\"></a>"
   ]
  },
  {
   "cell_type": "code",
   "execution_count": 34,
   "metadata": {},
   "outputs": [],
   "source": [
    "customers_Final_Behaviour_kmeans = customers_Final_Behaviour.copy()"
   ]
  },
  {
   "cell_type": "markdown",
   "metadata": {},
   "source": [
    "#### Analyse des composantes pincipales :"
   ]
  },
  {
   "cell_type": "code",
   "execution_count": 35,
   "metadata": {},
   "outputs": [
    {
     "data": {
      "text/plain": [
       "Index(['Unnamed: 0', 'customer_id', 'customer_unique_id', 'customer_city',\n",
       "       'recency_order', 'frequency_order', 'monetary_amount_order',\n",
       "       'amount_sports_leisure', 'amount_health_beauty', 'amount_home',\n",
       "       'amount_furniture', 'amount_fashion', 'amount_misc',\n",
       "       'amount_construction', 'amount_electronics', 'amount_supplies',\n",
       "       'amount_food_drink', 'amount_gifts', 'STATE_AC', 'STATE_AL', 'STATE_AM',\n",
       "       'STATE_AP', 'STATE_BA', 'STATE_CE', 'STATE_DF', 'STATE_ES', 'STATE_GO',\n",
       "       'STATE_MA', 'STATE_MG', 'STATE_MS', 'STATE_MT', 'STATE_PA', 'STATE_PB',\n",
       "       'STATE_PE', 'STATE_PI', 'STATE_PR', 'STATE_RJ', 'STATE_RN', 'STATE_RO',\n",
       "       'STATE_RR', 'STATE_RS', 'STATE_SC', 'STATE_SE', 'STATE_SP', 'STATE_TO'],\n",
       "      dtype='object')"
      ]
     },
     "execution_count": 35,
     "metadata": {},
     "output_type": "execute_result"
    }
   ],
   "source": [
    "customers_Final_Behaviour_kmeans.columns"
   ]
  },
  {
   "cell_type": "code",
   "execution_count": 45,
   "metadata": {},
   "outputs": [],
   "source": [
    "customers_Final_Behaviour_kmeans_in = customers_Final_Behaviour_kmeans.drop(columns=['Unnamed: 0','customer_id', 'customer_unique_id','customer_city'])\n",
    "customers_Final_Behaviour_kmeans_in.fillna(0, inplace = True)"
   ]
  },
  {
   "cell_type": "code",
   "execution_count": 48,
   "metadata": {},
   "outputs": [],
   "source": [
    "#customers_Final_Behaviour_kmeans_in.info()\n",
    "#customers_Final_Behaviour_kmeans_in"
   ]
  },
  {
   "cell_type": "code",
   "execution_count": 49,
   "metadata": {},
   "outputs": [
    {
     "name": "stdout",
     "output_type": "stream",
     "text": [
      "           P1        P2\n",
      "0  231.851620  4.189239\n",
      "1   -9.149831 -0.707835\n",
      "2 -136.148159  4.429137\n",
      "3  -69.148151  4.488477\n",
      "4 -206.149764 -0.607557\n"
     ]
    }
   ],
   "source": [
    "from sklearn.cluster import DBSCAN \n",
    "from sklearn.preprocessing import StandardScaler \n",
    "from sklearn.preprocessing import normalize \n",
    "from sklearn.decomposition import PCA \n",
    "\n",
    "pca = PCA(n_components = 2) \n",
    "X_principal = pca.fit_transform(customers_Final_Behaviour_kmeans_in) \n",
    "X_principal = pd.DataFrame(X_principal) \n",
    "X_principal.columns = ['P1', 'P2'] \n",
    "print(X_principal.head()) "
   ]
  },
  {
   "cell_type": "code",
   "execution_count": 58,
   "metadata": {},
   "outputs": [],
   "source": [
    "# Numpy array of all the cluster labels assigned to each data point \n",
    "m = DBSCAN(eps = 0.0375, min_samples = 3).fit(X_principal) \n",
    "clusters = m.labels_ "
   ]
  },
  {
   "cell_type": "code",
   "execution_count": 59,
   "metadata": {},
   "outputs": [],
   "source": [
    "colors = ['royalblue', 'maroon', 'forestgreen', 'mediumorchid', 'tan', 'deeppink', 'olive', 'goldenrod', 'lightcyan', 'navy']\n",
    "vectorizer = np.vectorize(lambda x: colors[x % len(colors)])"
   ]
  },
  {
   "cell_type": "code",
   "execution_count": 60,
   "metadata": {},
   "outputs": [
    {
     "data": {
      "text/plain": [
       "<matplotlib.collections.PathCollection at 0x11b4ea2f548>"
      ]
     },
     "execution_count": 60,
     "metadata": {},
     "output_type": "execute_result"
    },
    {
     "data": {
      "image/png": "[encoded data removed]",
      "text/plain": [
       "<Figure size 432x288 with 1 Axes>"
      ]
     },
     "metadata": {
      "needs_background": "light"
     },
     "output_type": "display_data"
    }
   ],
   "source": [
    "x = X_principal.iloc[:,0].values\n",
    "y = X_principal.iloc[:,1].values\n",
    "#plt.scatter(X_principal[:,0], X_principal[:,1], c=vectorizer(clusters))\n",
    "plt.scatter(x, y, c=vectorizer(clusters))\n"
   ]
  },
  {
   "cell_type": "code",
   "execution_count": null,
   "metadata": {},
   "outputs": [],
   "source": []
  },
  {
   "cell_type": "code",
   "execution_count": null,
   "metadata": {},
   "outputs": [],
   "source": []
  },
  {
   "cell_type": "code",
   "execution_count": null,
   "metadata": {},
   "outputs": [],
   "source": []
  },
  {
   "cell_type": "code",
   "execution_count": null,
   "metadata": {},
   "outputs": [],
   "source": []
  },
  {
   "cell_type": "code",
   "execution_count": 53,
   "metadata": {},
   "outputs": [
    {
     "ename": "ValueError",
     "evalue": "'c' argument must be a mpl color, a sequence of mpl colors or a sequence of numbers, not cvec.",
     "output_type": "error",
     "traceback": [
      "\u001b[1;31m---------------------------------------------------------------------------\u001b[0m",
      "\u001b[1;31mValueError\u001b[0m                                Traceback (most recent call last)",
      "\u001b[1;32mC:\\ProgramData\\Anaconda3\\lib\\site-packages\\matplotlib\\axes\\_axes.py\u001b[0m in \u001b[0;36m_parse_scatter_color_args\u001b[1;34m(c, edgecolors, kwargs, xshape, yshape, get_next_color_func)\u001b[0m\n\u001b[0;32m   4283\u001b[0m             \u001b[1;32mtry\u001b[0m\u001b[1;33m:\u001b[0m  \u001b[1;31m# Then is 'c' acceptable as PathCollection facecolors?\u001b[0m\u001b[1;33m\u001b[0m\u001b[1;33m\u001b[0m\u001b[0m\n\u001b[1;32m-> 4284\u001b[1;33m                 \u001b[0mcolors\u001b[0m \u001b[1;33m=\u001b[0m \u001b[0mmcolors\u001b[0m\u001b[1;33m.\u001b[0m\u001b[0mto_rgba_array\u001b[0m\u001b[1;33m(\u001b[0m\u001b[0mc\u001b[0m\u001b[1;33m)\u001b[0m\u001b[1;33m\u001b[0m\u001b[1;33m\u001b[0m\u001b[0m\n\u001b[0m\u001b[0;32m   4285\u001b[0m                 \u001b[0mn_elem\u001b[0m \u001b[1;33m=\u001b[0m \u001b[0mcolors\u001b[0m\u001b[1;33m.\u001b[0m\u001b[0mshape\u001b[0m\u001b[1;33m[\u001b[0m\u001b[1;36m0\u001b[0m\u001b[1;33m]\u001b[0m\u001b[1;33m\u001b[0m\u001b[1;33m\u001b[0m\u001b[0m\n",
      "\u001b[1;32mC:\\ProgramData\\Anaconda3\\lib\\site-packages\\matplotlib\\colors.py\u001b[0m in \u001b[0;36mto_rgba_array\u001b[1;34m(c, alpha)\u001b[0m\n\u001b[0;32m    293\u001b[0m     \u001b[1;32mfor\u001b[0m \u001b[0mi\u001b[0m\u001b[1;33m,\u001b[0m \u001b[0mcc\u001b[0m \u001b[1;32min\u001b[0m \u001b[0menumerate\u001b[0m\u001b[1;33m(\u001b[0m\u001b[0mc\u001b[0m\u001b[1;33m)\u001b[0m\u001b[1;33m:\u001b[0m\u001b[1;33m\u001b[0m\u001b[1;33m\u001b[0m\u001b[0m\n\u001b[1;32m--> 294\u001b[1;33m         \u001b[0mresult\u001b[0m\u001b[1;33m[\u001b[0m\u001b[0mi\u001b[0m\u001b[1;33m]\u001b[0m \u001b[1;33m=\u001b[0m \u001b[0mto_rgba\u001b[0m\u001b[1;33m(\u001b[0m\u001b[0mcc\u001b[0m\u001b[1;33m,\u001b[0m \u001b[0malpha\u001b[0m\u001b[1;33m)\u001b[0m\u001b[1;33m\u001b[0m\u001b[1;33m\u001b[0m\u001b[0m\n\u001b[0m\u001b[0;32m    295\u001b[0m     \u001b[1;32mreturn\u001b[0m \u001b[0mresult\u001b[0m\u001b[1;33m\u001b[0m\u001b[1;33m\u001b[0m\u001b[0m\n",
      "\u001b[1;32mC:\\ProgramData\\Anaconda3\\lib\\site-packages\\matplotlib\\colors.py\u001b[0m in \u001b[0;36mto_rgba\u001b[1;34m(c, alpha)\u001b[0m\n\u001b[0;32m    176\u001b[0m     \u001b[1;32mif\u001b[0m \u001b[0mrgba\u001b[0m \u001b[1;32mis\u001b[0m \u001b[1;32mNone\u001b[0m\u001b[1;33m:\u001b[0m  \u001b[1;31m# Suppress exception chaining of cache lookup failure.\u001b[0m\u001b[1;33m\u001b[0m\u001b[1;33m\u001b[0m\u001b[0m\n\u001b[1;32m--> 177\u001b[1;33m         \u001b[0mrgba\u001b[0m \u001b[1;33m=\u001b[0m \u001b[0m_to_rgba_no_colorcycle\u001b[0m\u001b[1;33m(\u001b[0m\u001b[0mc\u001b[0m\u001b[1;33m,\u001b[0m \u001b[0malpha\u001b[0m\u001b[1;33m)\u001b[0m\u001b[1;33m\u001b[0m\u001b[1;33m\u001b[0m\u001b[0m\n\u001b[0m\u001b[0;32m    178\u001b[0m         \u001b[1;32mtry\u001b[0m\u001b[1;33m:\u001b[0m\u001b[1;33m\u001b[0m\u001b[1;33m\u001b[0m\u001b[0m\n",
      "\u001b[1;32mC:\\ProgramData\\Anaconda3\\lib\\site-packages\\matplotlib\\colors.py\u001b[0m in \u001b[0;36m_to_rgba_no_colorcycle\u001b[1;34m(c, alpha)\u001b[0m\n\u001b[0;32m    232\u001b[0m             \u001b[1;32mpass\u001b[0m\u001b[1;33m\u001b[0m\u001b[1;33m\u001b[0m\u001b[0m\n\u001b[1;32m--> 233\u001b[1;33m         \u001b[1;32mraise\u001b[0m \u001b[0mValueError\u001b[0m\u001b[1;33m(\u001b[0m\u001b[1;34m\"Invalid RGBA argument: {!r}\"\u001b[0m\u001b[1;33m.\u001b[0m\u001b[0mformat\u001b[0m\u001b[1;33m(\u001b[0m\u001b[0morig_c\u001b[0m\u001b[1;33m)\u001b[0m\u001b[1;33m)\u001b[0m\u001b[1;33m\u001b[0m\u001b[1;33m\u001b[0m\u001b[0m\n\u001b[0m\u001b[0;32m    234\u001b[0m     \u001b[1;31m# tuple color.\u001b[0m\u001b[1;33m\u001b[0m\u001b[1;33m\u001b[0m\u001b[1;33m\u001b[0m\u001b[0m\n",
      "\u001b[1;31mValueError\u001b[0m: Invalid RGBA argument: 'v'",
      "\nDuring handling of the above exception, another exception occurred:\n",
      "\u001b[1;31mValueError\u001b[0m                                Traceback (most recent call last)",
      "\u001b[1;32m<ipython-input-53-f91a7bf1277d>\u001b[0m in \u001b[0;36m<module>\u001b[1;34m\u001b[0m\n\u001b[0;32m     18\u001b[0m \u001b[1;31m# according to the colour vector defined\u001b[0m\u001b[1;33m\u001b[0m\u001b[1;33m\u001b[0m\u001b[1;33m\u001b[0m\u001b[0m\n\u001b[0;32m     19\u001b[0m \u001b[0mplt\u001b[0m\u001b[1;33m.\u001b[0m\u001b[0mfigure\u001b[0m\u001b[1;33m(\u001b[0m\u001b[0mfigsize\u001b[0m \u001b[1;33m=\u001b[0m\u001b[1;33m(\u001b[0m\u001b[1;36m9\u001b[0m\u001b[1;33m,\u001b[0m \u001b[1;36m9\u001b[0m\u001b[1;33m)\u001b[0m\u001b[1;33m)\u001b[0m\u001b[1;33m\u001b[0m\u001b[1;33m\u001b[0m\u001b[0m\n\u001b[1;32m---> 20\u001b[1;33m \u001b[0mplt\u001b[0m\u001b[1;33m.\u001b[0m\u001b[0mscatter\u001b[0m\u001b[1;33m(\u001b[0m\u001b[0mX_principal\u001b[0m\u001b[1;33m[\u001b[0m\u001b[1;34m'P1'\u001b[0m\u001b[1;33m]\u001b[0m\u001b[1;33m,\u001b[0m \u001b[0mX_principal\u001b[0m\u001b[1;33m[\u001b[0m\u001b[1;34m'P2'\u001b[0m\u001b[1;33m]\u001b[0m\u001b[1;33m,\u001b[0m \u001b[0mc\u001b[0m \u001b[1;33m=\u001b[0m \u001b[1;34m'cvec'\u001b[0m\u001b[1;33m)\u001b[0m\u001b[1;33m\u001b[0m\u001b[1;33m\u001b[0m\u001b[0m\n\u001b[0m\u001b[0;32m     21\u001b[0m \u001b[1;33m\u001b[0m\u001b[0m\n\u001b[0;32m     22\u001b[0m \u001b[1;31m# Building the legend\u001b[0m\u001b[1;33m\u001b[0m\u001b[1;33m\u001b[0m\u001b[1;33m\u001b[0m\u001b[0m\n",
      "\u001b[1;32mC:\\ProgramData\\Anaconda3\\lib\\site-packages\\matplotlib\\pyplot.py\u001b[0m in \u001b[0;36mscatter\u001b[1;34m(x, y, s, c, marker, cmap, norm, vmin, vmax, alpha, linewidths, verts, edgecolors, plotnonfinite, data, **kwargs)\u001b[0m\n\u001b[0;32m   2846\u001b[0m         \u001b[0mverts\u001b[0m\u001b[1;33m=\u001b[0m\u001b[0mverts\u001b[0m\u001b[1;33m,\u001b[0m \u001b[0medgecolors\u001b[0m\u001b[1;33m=\u001b[0m\u001b[0medgecolors\u001b[0m\u001b[1;33m,\u001b[0m\u001b[1;33m\u001b[0m\u001b[1;33m\u001b[0m\u001b[0m\n\u001b[0;32m   2847\u001b[0m         plotnonfinite=plotnonfinite, **({\"data\": data} if data is not\n\u001b[1;32m-> 2848\u001b[1;33m         None else {}), **kwargs)\n\u001b[0m\u001b[0;32m   2849\u001b[0m     \u001b[0msci\u001b[0m\u001b[1;33m(\u001b[0m\u001b[0m__ret\u001b[0m\u001b[1;33m)\u001b[0m\u001b[1;33m\u001b[0m\u001b[1;33m\u001b[0m\u001b[0m\n\u001b[0;32m   2850\u001b[0m     \u001b[1;32mreturn\u001b[0m \u001b[0m__ret\u001b[0m\u001b[1;33m\u001b[0m\u001b[1;33m\u001b[0m\u001b[0m\n",
      "\u001b[1;32mC:\\ProgramData\\Anaconda3\\lib\\site-packages\\matplotlib\\__init__.py\u001b[0m in \u001b[0;36minner\u001b[1;34m(ax, data, *args, **kwargs)\u001b[0m\n\u001b[0;32m   1597\u001b[0m     \u001b[1;32mdef\u001b[0m \u001b[0minner\u001b[0m\u001b[1;33m(\u001b[0m\u001b[0max\u001b[0m\u001b[1;33m,\u001b[0m \u001b[1;33m*\u001b[0m\u001b[0margs\u001b[0m\u001b[1;33m,\u001b[0m \u001b[0mdata\u001b[0m\u001b[1;33m=\u001b[0m\u001b[1;32mNone\u001b[0m\u001b[1;33m,\u001b[0m \u001b[1;33m**\u001b[0m\u001b[0mkwargs\u001b[0m\u001b[1;33m)\u001b[0m\u001b[1;33m:\u001b[0m\u001b[1;33m\u001b[0m\u001b[1;33m\u001b[0m\u001b[0m\n\u001b[0;32m   1598\u001b[0m         \u001b[1;32mif\u001b[0m \u001b[0mdata\u001b[0m \u001b[1;32mis\u001b[0m \u001b[1;32mNone\u001b[0m\u001b[1;33m:\u001b[0m\u001b[1;33m\u001b[0m\u001b[1;33m\u001b[0m\u001b[0m\n\u001b[1;32m-> 1599\u001b[1;33m             \u001b[1;32mreturn\u001b[0m \u001b[0mfunc\u001b[0m\u001b[1;33m(\u001b[0m\u001b[0max\u001b[0m\u001b[1;33m,\u001b[0m \u001b[1;33m*\u001b[0m\u001b[0mmap\u001b[0m\u001b[1;33m(\u001b[0m\u001b[0msanitize_sequence\u001b[0m\u001b[1;33m,\u001b[0m \u001b[0margs\u001b[0m\u001b[1;33m)\u001b[0m\u001b[1;33m,\u001b[0m \u001b[1;33m**\u001b[0m\u001b[0mkwargs\u001b[0m\u001b[1;33m)\u001b[0m\u001b[1;33m\u001b[0m\u001b[1;33m\u001b[0m\u001b[0m\n\u001b[0m\u001b[0;32m   1600\u001b[0m \u001b[1;33m\u001b[0m\u001b[0m\n\u001b[0;32m   1601\u001b[0m         \u001b[0mbound\u001b[0m \u001b[1;33m=\u001b[0m \u001b[0mnew_sig\u001b[0m\u001b[1;33m.\u001b[0m\u001b[0mbind\u001b[0m\u001b[1;33m(\u001b[0m\u001b[0max\u001b[0m\u001b[1;33m,\u001b[0m \u001b[1;33m*\u001b[0m\u001b[0margs\u001b[0m\u001b[1;33m,\u001b[0m \u001b[1;33m**\u001b[0m\u001b[0mkwargs\u001b[0m\u001b[1;33m)\u001b[0m\u001b[1;33m\u001b[0m\u001b[1;33m\u001b[0m\u001b[0m\n",
      "\u001b[1;32mC:\\ProgramData\\Anaconda3\\lib\\site-packages\\matplotlib\\axes\\_axes.py\u001b[0m in \u001b[0;36mscatter\u001b[1;34m(self, x, y, s, c, marker, cmap, norm, vmin, vmax, alpha, linewidths, verts, edgecolors, plotnonfinite, **kwargs)\u001b[0m\n\u001b[0;32m   4451\u001b[0m             self._parse_scatter_color_args(\n\u001b[0;32m   4452\u001b[0m                 \u001b[0mc\u001b[0m\u001b[1;33m,\u001b[0m \u001b[0medgecolors\u001b[0m\u001b[1;33m,\u001b[0m \u001b[0mkwargs\u001b[0m\u001b[1;33m,\u001b[0m \u001b[0mxshape\u001b[0m\u001b[1;33m,\u001b[0m \u001b[0myshape\u001b[0m\u001b[1;33m,\u001b[0m\u001b[1;33m\u001b[0m\u001b[1;33m\u001b[0m\u001b[0m\n\u001b[1;32m-> 4453\u001b[1;33m                 get_next_color_func=self._get_patches_for_fill.get_next_color)\n\u001b[0m\u001b[0;32m   4454\u001b[0m \u001b[1;33m\u001b[0m\u001b[0m\n\u001b[0;32m   4455\u001b[0m         \u001b[1;32mif\u001b[0m \u001b[0mplotnonfinite\u001b[0m \u001b[1;32mand\u001b[0m \u001b[0mcolors\u001b[0m \u001b[1;32mis\u001b[0m \u001b[1;32mNone\u001b[0m\u001b[1;33m:\u001b[0m\u001b[1;33m\u001b[0m\u001b[1;33m\u001b[0m\u001b[0m\n",
      "\u001b[1;32mC:\\ProgramData\\Anaconda3\\lib\\site-packages\\matplotlib\\axes\\_axes.py\u001b[0m in \u001b[0;36m_parse_scatter_color_args\u001b[1;34m(c, edgecolors, kwargs, xshape, yshape, get_next_color_func)\u001b[0m\n\u001b[0;32m   4303\u001b[0m                         \u001b[1;34m\"'c' argument must be a mpl color, a sequence of mpl \"\u001b[0m\u001b[1;33m\u001b[0m\u001b[1;33m\u001b[0m\u001b[0m\n\u001b[0;32m   4304\u001b[0m                         \u001b[1;34m\"colors or a sequence of numbers, not {}.\"\u001b[0m\u001b[1;33m\u001b[0m\u001b[1;33m\u001b[0m\u001b[0m\n\u001b[1;32m-> 4305\u001b[1;33m                             \u001b[1;33m.\u001b[0m\u001b[0mformat\u001b[0m\u001b[1;33m(\u001b[0m\u001b[0mc\u001b[0m\u001b[1;33m)\u001b[0m  \u001b[1;31m# note: could be long depending on c\u001b[0m\u001b[1;33m\u001b[0m\u001b[1;33m\u001b[0m\u001b[0m\n\u001b[0m\u001b[0;32m   4306\u001b[0m                     )\n\u001b[0;32m   4307\u001b[0m         \u001b[1;32melse\u001b[0m\u001b[1;33m:\u001b[0m\u001b[1;33m\u001b[0m\u001b[1;33m\u001b[0m\u001b[0m\n",
      "\u001b[1;31mValueError\u001b[0m: 'c' argument must be a mpl color, a sequence of mpl colors or a sequence of numbers, not cvec."
     ]
    },
    {
     "data": {
      "image/png": "[encoded data removed]",
      "text/plain": [
       "<Figure size 432x288 with 1 Axes>"
      ]
     },
     "metadata": {
      "needs_background": "light"
     },
     "output_type": "display_data"
    },
    {
     "data": {
      "image/png": "[encoded data removed]",
      "text/plain": [
       "<Figure size 648x648 with 1 Axes>"
      ]
     },
     "metadata": {
      "needs_background": "light"
     },
     "output_type": "display_data"
    }
   ],
   "source": [
    "# Building the label to colour mapping \n",
    "colours = {} \n",
    "colours[0] = 'r'\n",
    "colours[1] = 'g'\n",
    "colours[2] = 'b'\n",
    "colours[-1] = 'k'\n",
    "  \n",
    "# Building the colour vector for each data point \n",
    "cvec = [colours[label] for label in labels] \n",
    "  \n",
    "# For the construction of the legend of the plot \n",
    "r = plt.scatter(X_principal['P1'], X_principal['P2'], color ='r'); \n",
    "g = plt.scatter(X_principal['P1'], X_principal['P2'], color ='g'); \n",
    "b = plt.scatter(X_principal['P1'], X_principal['P2'], color ='b'); \n",
    "k = plt.scatter(X_principal['P1'], X_principal['P2'], color ='k'); \n",
    "  \n",
    "# Plotting P1 on the X-Axis and P2 on the Y-Axis  \n",
    "# according to the colour vector defined \n",
    "plt.figure(figsize =(9, 9)) \n",
    "plt.scatter(X_principal['P1'], X_principal['P2'], c = 'cvec') \n",
    "  \n",
    "# Building the legend \n",
    "plt.legend((r, g, b, k), ('Label 0', 'Label 1', 'Label 2', 'Label -1')) \n",
    "  \n",
    "plt.show()"
   ]
  },
  {
   "cell_type": "markdown",
   "metadata": {},
   "source": [
    "### [M1-3 : DB-Scan ](#sommaire)<a class=\"anchor\" id=\"8\"></a>"
   ]
  },
  {
   "cell_type": "code",
   "execution_count": null,
   "metadata": {},
   "outputs": [],
   "source": []
  },
  {
   "cell_type": "code",
   "execution_count": null,
   "metadata": {},
   "outputs": [],
   "source": []
  },
  {
   "cell_type": "code",
   "execution_count": null,
   "metadata": {},
   "outputs": [],
   "source": []
  },
  {
   "cell_type": "code",
   "execution_count": null,
   "metadata": {},
   "outputs": [],
   "source": []
  },
  {
   "cell_type": "code",
   "execution_count": null,
   "metadata": {},
   "outputs": [],
   "source": []
  }
 ],
 "metadata": {
  "kernelspec": {
   "display_name": "Python 3",
   "language": "python",
   "name": "python3"
  },
  "language_info": {
   "codemirror_mode": {
    "name": "ipython",
    "version": 3
   },
   "file_extension": ".py",
   "mimetype": "text/x-python",
   "name": "python",
   "nbconvert_exporter": "python",
   "pygments_lexer": "ipython3",
   "version": "3.7.6"
  }
 },
 "nbformat": 4,
 "nbformat_minor": 2
}
